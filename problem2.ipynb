{
 "cells": [
  {
   "cell_type": "code",
   "execution_count": 7,
   "id": "6ac24b5d-4215-48eb-80b1-ce290627eec0",
   "metadata": {},
   "outputs": [],
   "source": [
    "%load_ext autoreload\n",
    "%autoreload 2"
   ]
  },
  {
   "cell_type": "code",
   "execution_count": 11,
   "id": "9520b3f4-ac8f-4773-99c9-8ee0c7cf16e4",
   "metadata": {},
   "outputs": [
    {
     "name": "stdout",
     "output_type": "stream",
     "text": [
      "    波长      Blue  Green  Red  Warm White  Cold White\n",
      "0  380  0.000000    0.0  0.0         0.0    0.021609\n",
      "1  381  0.001835    0.0  0.0         0.0    0.016859\n",
      "2  382  0.005505    0.0  0.0         0.0    0.011873\n",
      "3  383  0.002752    0.0  0.0         0.0    0.027545\n",
      "4  384  0.000000    0.0  0.0         0.0    0.029682\n"
     ]
    }
   ],
   "source": [
    "import pandas as pd\n",
    "import numpy as np\n",
    "import os\n",
    "import matplotlib.pyplot as plt\n",
    "import seaborn as sns\n",
    "from scipy.optimize import minimize\n",
    "from typing import Tuple, Optional, Dict\n",
    "\n",
    "df = pd.read_excel('Data/P2_processed_data.xlsx')\n",
    "print (df.head())"
   ]
  },
  {
   "cell_type": "code",
   "execution_count": 24,
   "id": "9d05c27f-b669-4e58-8ef0-16236a6782f6",
   "metadata": {},
   "outputs": [],
   "source": [
    "def linear_combine_spd(spd_df: pd.DataFrame, w: np.ndarray) -> pd.DataFrame:\n",
    "   \n",
    "    # 确保顺序\n",
    "    channels = ['Blue', 'Green', 'Red', 'Warm White', 'Cold White']\n",
    "    assert len(w) == len(channels)\n",
    "    \n",
    "    # 取出各通道光谱矩阵 (波长数 × 通道数)\n",
    "    channel_power = spd_df[channels].values \n",
    "    \n",
    "    # 线性叠加：波长点数 × 通道数 乘以 通道数 × 1，结果是 (波长点数,)\n",
    "    combined_power = np.dot(channel_power, w)\n",
    "\n",
    "    #return\n",
    "    result_df = pd.DataFrame({\n",
    "        'wavelength': spd_df['波长'],\n",
    "        'power': combined_power\n",
    "    })\n",
    "    \n",
    "    return result_df"
   ]
  },
  {
   "cell_type": "code",
   "execution_count": 20,
   "id": "5d1431cc-701d-4b4c-8d75-b891d04a2193",
   "metadata": {},
   "outputs": [
    {
     "name": "stdout",
     "output_type": "stream",
     "text": [
      "[1 1 1 1 1]\n"
     ]
    }
   ],
   "source": [
    "#weight init\n",
    "w = np.array((1,1,1,1,1))\n",
    "print (w)\n",
    "\n",
    "#Configeration\n",
    "CCT_BOUNDS = (5500.0, 6500.0)   # [min, max] K\n",
    "RG_BOUNDS = (95.0, 105.0)       # [min, max]\n",
    "WEIGHT_BOUNDS = (0.0, 1.0)      # each weight in [0,1]\n",
    "NUM_RANDOM_STARTS = 30          # multi-start次数\n",
    "FEASIBILITY_TOL = 1e-6          # 约束容忍度（数值判断）\n",
    "MAXITER = 300"
   ]
  },
  {
   "cell_type": "code",
   "execution_count": null,
   "id": "6e09562b-b67a-48e3-b615-69d1717cf5a6",
   "metadata": {},
   "outputs": [],
   "source": [
    "class MetricCache:\n",
    "    def __init__(self, spd):\n",
    "        self.spd = spd\n",
    "        self.cache = {}\n",
    "\n",
    "    def key_of(self, w: np.ndarray, digits: int = 8):\n",
    "        # 把权重归一化为 tuple，便于哈希\n",
    "        return tuple(np.round(w, digits).tolist())\n",
    "        \n",
    "    def compute(self, w: np.ndarray):\n",
    "        k = self.key_of(w)\n",
    "        \n",
    "        if k in self.cache:\n",
    "            return self.cache[k]\n",
    "        spd = np.dot(w, self.S)  # 合成 SPD\n",
    "        \n",
    "        try:\n",
    "            cct = float(get_CCT(spd))\n",
    "        except Exception as e:\n",
    "            cct = float('nan')\n",
    "        try:\n",
    "            duv = float(get_duv(spd))\n",
    "        except Exception:\n",
    "            duv = float('nan')\n",
    "        try:\n",
    "            rf = float(get_rf(spd))\n",
    "        except Exception:\n",
    "            rf = float('nan')\n",
    "        try:\n",
    "            rg = float(get_rg(spd))\n",
    "        except Exception:\n",
    "            rg = float('nan')\n",
    "        try:\n",
    "            mel = float(get_mel_DER(spd))\n",
    "        except Exception:\n",
    "            mel = float('nan')\n",
    "        val = {'spd': spd, 'cct': cct, 'duv': duv, 'rf': rf, 'rg': rg, 'mel': mel}\n",
    "        self.cache[k] = val\n",
    "        return val"
   ]
  }
 ],
 "metadata": {
  "kernelspec": {
   "display_name": "EECS",
   "language": "python",
   "name": "robodiff"
  },
  "language_info": {
   "codemirror_mode": {
    "name": "ipython",
    "version": 3
   },
   "file_extension": ".py",
   "mimetype": "text/x-python",
   "name": "python",
   "nbconvert_exporter": "python",
   "pygments_lexer": "ipython3",
   "version": "3.9.18"
  }
 },
 "nbformat": 4,
 "nbformat_minor": 5
}
