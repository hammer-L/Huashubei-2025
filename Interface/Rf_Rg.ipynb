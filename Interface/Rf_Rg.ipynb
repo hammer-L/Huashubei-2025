{
 "cells": [
  {
   "cell_type": "code",
   "execution_count": 3,
   "id": "6f191867-d01b-40fa-9f8a-a50372646fc3",
   "metadata": {},
   "outputs": [],
   "source": [
    "import numpy as np\n",
    "import pandas as pd\n",
    "import matplotlib.pyplot as plt\n",
    "from scipy.spatial.distance import euclidean\n",
    "from colour.appearance import XYZ_to_CIECAM02\n",
    "from math import cos, sin, sqrt, radians\n",
    "from colour import SDS_ILLUMINANTS, SpectralShape\n",
    "from scipy.interpolate import interp1d"
   ]
  },
  {
   "cell_type": "code",
   "execution_count": 5,
   "id": "4492ec39-e045-47ef-b80d-df5d9104a3ca",
   "metadata": {},
   "outputs": [],
   "source": [
    "def load_spd_excel_resample_to_5nm(path):\n",
    "    df = pd.read_excel(path)\n",
    "    df = df.apply(pd.to_numeric, errors='coerce')\n",
    "    df = df.dropna()  \n",
    "\n",
    "    wavelengths_1nm = df.iloc[:, 0].values \n",
    "    spd_values_1nm = df.iloc[:, 1].values  \n",
    "\n",
    "    interp_func = interp1d(wavelengths_1nm, spd_values_1nm, kind='linear', bounds_error=False, fill_value=0)\n",
    "    wavelengths_5nm = np.arange(380, 781, 5)\n",
    "    spd_values_5nm = interp_func(wavelengths_5nm)\n",
    "\n",
    "    return dict(zip(wavelengths_5nm, spd_values_5nm))\n",
    "\n",
    "\n",
    "def load_d65_csv(path):\n",
    "    df = pd.read_csv(path) \n",
    "    df = df.apply(pd.to_numeric, errors='coerce')  \n",
    "    df = df.fillna(0)\n",
    "    return dict(zip(df['Wavelength'], df['D65']))\n",
    "\n",
    "    \n",
    "def load_ces_dat(path):\n",
    "    data = np.loadtxt(path, delimiter=',')\n",
    "    wavelengths = data[:, 0]\n",
    "    sample_values = data[:, 1:]\n",
    "    ces_samples = []\n",
    "    for i in range(sample_values.shape[1]):\n",
    "        sample = dict(zip(wavelengths, sample_values[:, i]))\n",
    "        ces_samples.append(sample)\n",
    "    return ces_samples\n",
    "\n",
    "def load_cmf_csv(path):\n",
    "    df = pd.read_csv(path)\n",
    "    # 取 380, 385, 390 ... 780的波长索引\n",
    "    wavelengths = np.arange(380, 781, 5)\n",
    "    cmf = {}\n",
    "    for wl in wavelengths:\n",
    "        i = wl - 380  # 因为df的行索引对应波长 - 380\n",
    "        cmf[wl] = (df.loc[i, 'x_bar'], df.loc[i, 'y_bar'], df.loc[i, 'z_bar'])\n",
    "    return cmf\n",
    "\n",
    "\n"
   ]
  },
  {
   "cell_type": "code",
   "execution_count": 6,
   "id": "c552c6fc-90d3-49f1-b0e8-a09b391c1480",
   "metadata": {},
   "outputs": [],
   "source": [
    "def downsample_ces(ces_samples, step=5):\n",
    "    downsampled = []\n",
    "    for ces in ces_samples:  # 这里每个ces本身就是字典，不解包\n",
    "        new_ces = {wl: ces[wl] for wl in range(380, 781, step)}\n",
    "        downsampled.append(new_ces)\n",
    "    return downsampled"
   ]
  },
  {
   "cell_type": "code",
   "execution_count": 7,
   "id": "fb26c2ac-7eae-4e24-b17f-606eb7a1b505",
   "metadata": {},
   "outputs": [],
   "source": [
    "def compute_XYZ(spd, reflectance, cmfs):\n",
    "    wavelengths = np.arange(380, 781, 5)\n",
    "    d_lambda = 5\n",
    "    X = Y = Z = 0.0\n",
    "    for wl in wavelengths:\n",
    "        S = spd.get(wl, 0)\n",
    "        R = reflectance.get(wl, 0)\n",
    "        x_bar, y_bar, z_bar = cmfs.get(wl, (0, 0, 0))\n",
    "        X += S * R * x_bar\n",
    "        Y += S * R * y_bar\n",
    "        Z += S * R * z_bar\n",
    "    k = 100 / (sum(spd.get(wl, 0) * cmfs.get(wl, (0, 0, 0))[1] * d_lambda for wl in wavelengths))\n",
    "    X *= k * d_lambda\n",
    "    Y *= k * d_lambda\n",
    "    Z *= k * d_lambda\n",
    "    return [X, Y, Z]\n"
   ]
  },
  {
   "cell_type": "code",
   "execution_count": 8,
   "id": "9e0ed792-210c-4bd6-b175-55f9cd06af01",
   "metadata": {},
   "outputs": [],
   "source": [
    "def cam02_jmh_to_ab(J, M, h):\n",
    "    h_rad = np.deg2rad(h)\n",
    "    a = M * np.cos(h_rad)\n",
    "    b = M * np.sin(h_rad)\n",
    "    return a, b"
   ]
  },
  {
   "cell_type": "code",
   "execution_count": 9,
   "id": "a2396ee6-bdc7-49d0-95d6-ef4f98340ef6",
   "metadata": {},
   "outputs": [],
   "source": [
    "def ciecam02_to_ucs(J, a, b):\n",
    "    # 2006 CAM02-UCS conversion公式\n",
    "    c1 = 0.007\n",
    "    c2 = 0.0228\n",
    "    c3 = 1.0\n",
    "\n",
    "    Jp = (1 + 100 * c1) * J / (1 + c1 * J)\n",
    "    ap = c2 * a\n",
    "    bp = c2 * b\n",
    "    return np.array([Jp, ap, bp])"
   ]
  },
  {
   "cell_type": "code",
   "execution_count": 74,
   "id": "584a82e1-3726-4be0-8087-2674b695d348",
   "metadata": {},
   "outputs": [],
   "source": [
    "def color_differences(jab1, jab2):\n",
    "    return np.linalg.norm(jab1 - jab2, axis=1)\n",
    "\n",
    "def compute_Rf_Rg(delta_Es, jab_test, jab_ref, max_ratio=5.0):\n",
    "    Rf = 100 - 4.6 * np.mean(delta_Es)\n",
    "\n",
    "    a_test = jab_test[:, 1]\n",
    "    b_test = jab_test[:, 2]\n",
    "    chroma_test = np.sqrt(a_test**2 + b_test**2)\n",
    "\n",
    "    a_ref = jab_ref[:, 1]\n",
    "    b_ref = jab_ref[:, 2]\n",
    "    chroma_ref = np.sqrt(a_ref**2 + b_ref**2)\n",
    "\n",
    "    eps = 1e-12\n",
    "    chroma_ref_safe = np.where(chroma_ref < eps, eps, chroma_ref)\n",
    "\n",
    "    ratios = chroma_test / chroma_ref_safe\n",
    "    ratios_clipped = np.clip(ratios, None, max_ratio)\n",
    "\n",
    "    Rg = 100 * np.mean(ratios_clipped)\n",
    "\n",
    "\n",
    "    return Rf, Rg\n",
    "\n",
    "\n"
   ]
  },
  {
   "cell_type": "code",
   "execution_count": 75,
   "id": "97f224fa-1333-4c9d-9d18-cb4fb9ec5141",
   "metadata": {},
   "outputs": [],
   "source": [
    "def get_Rf_Rg_indices(spd_df):\n",
    "    # Step 1: 将 DataFrame 转为 SPD 字典（自动重采样为5nm）\n",
    "    wavelengths_1nm = spd_df.iloc[:, 0].values\n",
    "    spd_values_1nm = spd_df.iloc[:, 1].values\n",
    "    interp_func = interp1d(wavelengths_1nm, spd_values_1nm, kind='linear', bounds_error=False, fill_value=0)\n",
    "    wavelengths_5nm = np.arange(380, 781, 5)\n",
    "    spd_values_5nm = interp_func(wavelengths_5nm)\n",
    "    spd_test = dict(zip(wavelengths_5nm, spd_values_5nm))\n",
    "\n",
    "    # Step 2: 加载其他静态数据\n",
    "    d65_def = load_d65_csv('d65.csv')\n",
    "    ces_samples_1nm = load_ces_dat('IESTM30_15_Sspds.dat')\n",
    "    ces_samples = downsample_ces(ces_samples_1nm)\n",
    "    cmfs = load_cmf_csv('cmf.csv')\n",
    "\n",
    "    # Step 3: 单位归一化（SPD和D65都按能量归一化）\n",
    "    wavelengths = sorted(spd_test.keys())\n",
    "    spd_array = np.array([spd_test[wl] for wl in wavelengths])\n",
    "    d65_array = np.array([d65_def[wl] for wl in wavelengths])\n",
    "    d65_scaled = d65_array * (np.sum(spd_array) / np.sum(d65_array))\n",
    "    d65 = dict(zip(wavelengths, d65_scaled))\n",
    "\n",
    "    # Step 4: 强度归一化（最大值归一化）\n",
    "    max_spd = max(spd_test.values())\n",
    "    spd_norm = {wl: val / max_spd for wl, val in spd_test.items()}\n",
    "    max_d65 = max(d65_def.values())\n",
    "    d65_norm = {wl: val / max_d65 for wl, val in d65_def.items()}\n",
    "\n",
    "    # Step 5: 计算每个CES样本的 XYZ（测试光源 & 参考光源）\n",
    "    XYZ_test_list = [compute_XYZ(spd_norm, sample, cmfs) for sample in ces_samples]\n",
    "    XYZ_ref_list = [compute_XYZ(d65_norm, sample, cmfs) for sample in ces_samples]\n",
    "\n",
    "    # Step 6: CIECAM02 变换\n",
    "    XYZ_w = compute_XYZ(d65_norm, {wl: 1.0 for wl in range(380, 781, 5)}, cmfs)\n",
    "    cam_test = [XYZ_to_CIECAM02(xyz, XYZ_w=XYZ_w, L_A=64, Y_b=20) for xyz in XYZ_test_list]\n",
    "    cam_ref = [XYZ_to_CIECAM02(xyz, XYZ_w=XYZ_w, L_A=64, Y_b=20) for xyz in XYZ_ref_list]\n",
    "\n",
    "    # Step 7: CAM02-UCS 转换\n",
    "    jab_test = np.array([ciecam02_to_ucs(cam.J, *cam02_jmh_to_ab(cam.J, cam.M, cam.h)) for cam in cam_test])\n",
    "    jab_ref = np.array([ciecam02_to_ucs(cam.J, *cam02_jmh_to_ab(cam.J, cam.M, cam.h)) for cam in cam_ref])\n",
    "\n",
    "\n",
    "\n",
    "    # Step 8: 色差计算 & 指标输出\n",
    "    delta_E = color_differences(jab_test, jab_ref)\n",
    "    Rf, Rg = compute_Rf_Rg(delta_E, jab_test, jab_ref, max_ratio=5.0)\n",
    "\n",
    "    return Rf, Rg\n"
   ]
  },
  {
   "cell_type": "code",
   "execution_count": 76,
   "id": "83c7aa64-aa74-4c10-a907-274ba033fd7d",
   "metadata": {},
   "outputs": [
    {
     "name": "stdout",
     "output_type": "stream",
     "text": [
      "Rf = 89.88, Rg = 192.18\n"
     ]
    }
   ],
   "source": [
    "spd_df = pd.read_excel(\"P1_processed_data.xlsx\")\n",
    "Rf, Rg = get_Rf_Rg_indices(spd_df)\n",
    "print(f\"Rf = {Rf:.2f}, Rg = {Rg:.2f}\")\n"
   ]
  },
  {
   "cell_type": "code",
   "execution_count": null,
   "id": "4ebb4fdc-c0be-46c3-9288-68a0107ec7cd",
   "metadata": {},
   "outputs": [],
   "source": []
  }
 ],
 "metadata": {
  "kernelspec": {
   "display_name": "Python [conda env:base] *",
   "language": "python",
   "name": "conda-base-py"
  },
  "language_info": {
   "codemirror_mode": {
    "name": "ipython",
    "version": 3
   },
   "file_extension": ".py",
   "mimetype": "text/x-python",
   "name": "python",
   "nbconvert_exporter": "python",
   "pygments_lexer": "ipython3",
   "version": "3.13.5"
  }
 },
 "nbformat": 4,
 "nbformat_minor": 5
}
