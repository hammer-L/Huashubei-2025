{
 "cells": [
  {
   "cell_type": "code",
   "execution_count": 9,
   "id": "510a3df0-010f-4a07-a729-4d6039e7cee2",
   "metadata": {},
   "outputs": [
    {
     "name": "stdout",
     "output_type": "stream",
     "text": [
      "401\n",
      "从Advanced Outputs的J40读取的值是: 0.707454080142146\n"
     ]
    }
   ],
   "source": [
    "import numpy as np\n",
    "import pandas as pd\n",
    "import os\n",
    "import openpyxl\n",
    "\n",
    "mode1 = \"Lucas et al., 2014\"\n",
    "mode2 = \"CIE S 026\"\n",
    "\n",
    "#Lucas version\n",
    "def get_mel_DER_Lucas(spd: pd.DataFrame):\n",
    "    \n",
    "    #power numpy gen\n",
    "    power = spd[\"power\"].to_numpy()\n",
    "    \n",
    "    #path\n",
    "    input_excel = \"Data/CIE S 026 alpha-opic Toolbox Lucas.xlsx\"\n",
    "    output_file = \"Data/CIE S 026 alpha-opic Toolbox_modified.xlsx\"\n",
    "    \n",
    "    # 加载Excel文件\n",
    "    wb = openpyxl.load_workbook(input_excel, data_only=True)\n",
    "    inputs_sheet = wb['Inputs']\n",
    "    \n",
    "    # 将numpy数据填充到C24到C424单元格\n",
    "    for i, value in enumerate(power):\n",
    "        inputs_sheet[f'C{24 + i}'] = float(value)\n",
    "    \n",
    "    # 保存修改后的Excel文件\n",
    "    wb.save(output_file)\n",
    "    \n",
    "    # 读取Advanced Outputs工作表中的J40值\n",
    "    advanced_outputs_sheet = wb['Advanced Outputs']\n",
    "    j40_value = advanced_outputs_sheet['J40'].value\n",
    "    \n",
    "    return j40_value\n",
    "\n",
    "#CIE version\n",
    "def get_mel_DER_CIE(spd: pd.DataFrame):\n",
    "    \n",
    "    #power numpy gen\n",
    "    power = spd[\"power\"].to_numpy()\n",
    "    \n",
    "    #path\n",
    "    input_excel = \"Data/CIE S 026 alpha-opic Toolbox CIE.xlsx\"\n",
    "    output_file = \"Data/CIE S 026 alpha-opic Toolbox_modified.xlsx\"\n",
    "    \n",
    "    # 加载Excel文件\n",
    "    wb = openpyxl.load_workbook(input_excel, data_only=True)\n",
    "    inputs_sheet = wb['Inputs']\n",
    "    \n",
    "    # 将numpy数据填充到C24到C424单元格\n",
    "    for i, value in enumerate(power):\n",
    "        inputs_sheet[f'C{24 + i}'] = float(value)\n",
    "    \n",
    "    # 保存修改后的Excel文件\n",
    "    wb.save(output_file)\n",
    "    \n",
    "    # 读取Advanced Outputs工作表中的J40值\n",
    "    advanced_outputs_sheet = wb['Advanced Outputs']\n",
    "    j40_value = advanced_outputs_sheet['J40'].value\n",
    "    \n",
    "    return j40_value\n",
    "\n",
    "\"\"\"\n",
    "test\n",
    "\n",
    "os.chdir(r\"/home/workshop/Huashubei-2025\")\n",
    "\n",
    "df_p1 = pd.read_excel('Data/P1_processed_data.xlsx')\n",
    "light_intensity = df_p1[\"光强\"].to_numpy()\n",
    "print (len(light_intensity))\n",
    "\n",
    "result = get_mel_DER(light_intensity, mode1)\n",
    "print(f\"从Advanced Outputs的J40读取的值是: {result}\")\n",
    "\"\"\"\n",
    "\n",
    "df_p1 = pd.read_excel('Data/P1_processed_data.xlsx')\n",
    "print (len(light_intensity))\n",
    "\n",
    "result = get_mel_DER_Lucas(df_p1)\n",
    "print(f\"从Advanced Outputs的J40读取的值是: {result}\")"
   ]
  },
  {
   "cell_type": "code",
   "execution_count": null,
   "id": "11e34a1d-a564-47ad-bb82-ecb2deab18c9",
   "metadata": {},
   "outputs": [],
   "source": []
  },
  {
   "cell_type": "code",
   "execution_count": null,
   "id": "ab5adfab-dc32-46c8-9331-ae368f666767",
   "metadata": {},
   "outputs": [],
   "source": []
  }
 ],
 "metadata": {
  "kernelspec": {
   "display_name": "EECS",
   "language": "python",
   "name": "robodiff"
  },
  "language_info": {
   "codemirror_mode": {
    "name": "ipython",
    "version": 3
   },
   "file_extension": ".py",
   "mimetype": "text/x-python",
   "name": "python",
   "nbconvert_exporter": "python",
   "pygments_lexer": "ipython3",
   "version": "3.9.18"
  }
 },
 "nbformat": 4,
 "nbformat_minor": 5
}
