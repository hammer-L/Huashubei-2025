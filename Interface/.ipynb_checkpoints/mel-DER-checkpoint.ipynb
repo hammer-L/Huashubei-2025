{
 "cells": [
  {
   "cell_type": "code",
   "execution_count": 18,
   "id": "a6967d34-37fa-491d-a88c-6a37bd2f0060",
   "metadata": {},
   "outputs": [
    {
     "name": "stdout",
     "output_type": "stream",
     "text": [
      "The autoreload extension is already loaded. To reload it, use:\n",
      "  %reload_ext autoreload\n"
     ]
    }
   ],
   "source": [
    "%load_ext autoreload\n",
    "%autoreload 2\n"
   ]
  },
  {
   "cell_type": "code",
   "execution_count": 28,
   "id": "510a3df0-010f-4a07-a729-4d6039e7cee2",
   "metadata": {},
   "outputs": [
    {
     "ename": "ModuleNotFoundError",
     "evalue": "No module named 'xlwings'",
     "output_type": "error",
     "traceback": [
      "\u001b[0;31m---------------------------------------------------------------------------\u001b[0m",
      "\u001b[0;31mModuleNotFoundError\u001b[0m                       Traceback (most recent call last)",
      "\u001b[0;32m/tmp/ipykernel_1148/91344716.py\u001b[0m in \u001b[0;36m<cell line: 5>\u001b[0;34m()\u001b[0m\n\u001b[1;32m      3\u001b[0m \u001b[0;32mimport\u001b[0m \u001b[0mos\u001b[0m\u001b[0;34m\u001b[0m\u001b[0;34m\u001b[0m\u001b[0m\n\u001b[1;32m      4\u001b[0m \u001b[0;32mimport\u001b[0m \u001b[0mopenpyxl\u001b[0m\u001b[0;34m\u001b[0m\u001b[0;34m\u001b[0m\u001b[0m\n\u001b[0;32m----> 5\u001b[0;31m \u001b[0;32mimport\u001b[0m \u001b[0mxlwings\u001b[0m \u001b[0;32mas\u001b[0m \u001b[0mxw\u001b[0m\u001b[0;34m\u001b[0m\u001b[0;34m\u001b[0m\u001b[0m\n\u001b[0m\u001b[1;32m      6\u001b[0m \u001b[0mos\u001b[0m\u001b[0;34m.\u001b[0m\u001b[0mchdir\u001b[0m\u001b[0;34m(\u001b[0m\u001b[0;34m\"/home/workshop/Huashubei-2025\"\u001b[0m\u001b[0;34m)\u001b[0m\u001b[0;34m\u001b[0m\u001b[0;34m\u001b[0m\u001b[0m\n\u001b[1;32m      7\u001b[0m \u001b[0mmode1\u001b[0m \u001b[0;34m=\u001b[0m \u001b[0;34m\"Lucas et al., 2014\"\u001b[0m\u001b[0;34m\u001b[0m\u001b[0;34m\u001b[0m\u001b[0m\n",
      "\u001b[0;31mModuleNotFoundError\u001b[0m: No module named 'xlwings'"
     ]
    }
   ],
   "source": [
    "import numpy as np\n",
    "import pandas as pd\n",
    "import os\n",
    "import openpyxl\n",
    "import xlwings as xw\n",
    "os.chdir(\"/home/workshop/Huashubei-2025\")\n",
    "mode1 = \"Lucas et al., 2014\"\n",
    "mode2 = \"CIE S 026\"\n",
    "\n",
    "#Lucas version\n",
    "def get_mel_DER_Lucas(spd: pd.DataFrame):\n",
    "    \n",
    "    #power numpy gen\n",
    "    power = spd[\"power\"].to_numpy()\n",
    "    \n",
    "    #path\n",
    "    input_excel = \"Data/CIE S 026 alpha-opic Toolbox Lucas.xlsx\"\n",
    "    output_file = \"Data/CIE S 026 alpha-opic Toolbox_modified.xlsx\"\n",
    "    \n",
    "    # 加载Excel文件\n",
    "    wb = openpyxl.load_workbook(input_excel, data_only=True)\n",
    "    inputs_sheet = wb['Inputs']\n",
    "    \n",
    "    # 将numpy数据填充到C24到C424单元格\n",
    "    for i, value in enumerate(power):\n",
    "        inputs_sheet[f'C{24 + i}'] = float(value)\n",
    "    \n",
    "    # 保存修改后的Excel文件\n",
    "    wb.save(output_file)\n",
    "    \n",
    "    # 读取Advanced Outputs工作表中的J40值\n",
    "    advanced_outputs_sheet = wb['Advanced Outputs']\n",
    "    j40_value = advanced_outputs_sheet['J40'].value\n",
    "    \n",
    "    return j40_value\n",
    "\n",
    "#CIE version\n",
    "def get_mel_DER_CIE(spd: pd.DataFrame):\n",
    "    \n",
    "    #power numpy gen\n",
    "    power = spd[\"power\"].to_numpy()\n",
    "    \n",
    "    #path\n",
    "    input_excel = \"Data/CIE S 026 alpha-opic Toolbox CIE.xlsx\"\n",
    "    output_file = \"Data/CIE S 026 alpha-opic Toolbox_modified.xlsx\"\n",
    "    \n",
    "    # 加载Excel文件\n",
    "    wb = openpyxl.load_workbook(input_excel, data_only=True)\n",
    "    inputs_sheet = wb['Inputs']\n",
    "    \n",
    "    # 将numpy数据填充到C24到C424单元格\n",
    "    for i, value in enumerate(power):\n",
    "        inputs_sheet[f'C{24 + i}'] = float(value)\n",
    "    \n",
    "    # 保存修改后的Excel文件\n",
    "    wb.save(output_file)\n",
    "    \n",
    "    # 读取Advanced Outputs工作表中的J40值\n",
    "    advanced_outputs_sheet = wb['Advanced Outputs']\n",
    "    j40_value = advanced_outputs_sheet['J40'].value\n",
    "    \n",
    "    return j40_value\n",
    "\n",
    "\n",
    "def get_mel_DER_CIE_with_xlwings(spd: pd.DataFrame, input_excel=\"Data/CIE S 026 alpha-opic Toolbox CIE.xlsx\"):\n",
    "    # 启动Excel应用（可见，调试时方便，发布时可设为False）\n",
    "    app = xw.App(visible=False)\n",
    "    try:\n",
    "        wb = app.books.open(input_excel)\n",
    "        sheet_inputs = wb.sheets['Inputs']\n",
    "        sheet_outputs = wb.sheets['Advanced Outputs']\n",
    "\n",
    "        # power数组\n",
    "        power = spd['power'].to_list()\n",
    "\n",
    "        # 从C24开始填充功率数据\n",
    "        start_row = 24\n",
    "        col = 'C'\n",
    "        for i, val in enumerate(power):\n",
    "            cell = f\"{col}{start_row + i}\"\n",
    "            sheet_inputs.range(cell).value = float(val)\n",
    "\n",
    "        # 强制Excel计算\n",
    "        wb.app.calculate()\n",
    "\n",
    "        # 读取J40单元格的计算结果\n",
    "        j40_value = sheet_outputs.range('J40').value\n",
    "\n",
    "        wb.close()\n",
    "        return j40_value\n",
    "    finally:\n",
    "        app.quit()\n"
   ]
  },
  {
   "cell_type": "code",
   "execution_count": 27,
   "id": "ab5adfab-dc32-46c8-9331-ae368f666767",
   "metadata": {},
   "outputs": [
    {
     "name": "stdout",
     "output_type": "stream",
     "text": [
      "从Advanced Outputs的J40读取的值是: #VALUE!\n"
     ]
    }
   ],
   "source": [
    "wavelengths = np.arange(380, 781, 1)\n",
    "power = np.random.rand(len(wavelengths))\n",
    "dummy_df = pd.DataFrame({\n",
    "    'wavelength': wavelengths,\n",
    "    'power': power\n",
    "})\n",
    "\n",
    "result = get_mel_DER_CIE(dummy_df)\n",
    "print(f\"从Advanced Outputs的J40读取的值是: {result}\")"
   ]
  },
  {
   "cell_type": "code",
   "execution_count": null,
   "id": "137bcc1b-6b7f-4fe7-8e3e-3f0965fae257",
   "metadata": {},
   "outputs": [],
   "source": []
  },
  {
   "cell_type": "code",
   "execution_count": null,
   "id": "f884d942-9cba-4b71-89b8-dc823a82f2ca",
   "metadata": {},
   "outputs": [],
   "source": []
  },
  {
   "cell_type": "code",
   "execution_count": null,
   "id": "1593c951-5ad0-4226-851f-3ac4fa651b02",
   "metadata": {},
   "outputs": [],
   "source": []
  }
 ],
 "metadata": {
  "kernelspec": {
   "display_name": "EECS",
   "language": "python",
   "name": "robodiff"
  },
  "language_info": {
   "codemirror_mode": {
    "name": "ipython",
    "version": 3
   },
   "file_extension": ".py",
   "mimetype": "text/x-python",
   "name": "python",
   "nbconvert_exporter": "python",
   "pygments_lexer": "ipython3",
   "version": "3.9.18"
  }
 },
 "nbformat": 4,
 "nbformat_minor": 5
}
