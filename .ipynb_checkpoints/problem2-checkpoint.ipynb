{
 "cells": [
  {
   "cell_type": "code",
   "execution_count": 3,
   "id": "6ac24b5d-4215-48eb-80b1-ce290627eec0",
   "metadata": {},
   "outputs": [],
   "source": [
    "%load_ext autoreload\n",
    "%autoreload 2"
   ]
  },
  {
   "cell_type": "code",
   "execution_count": 3,
   "id": "9520b3f4-ac8f-4773-99c9-8ee0c7cf16e4",
   "metadata": {},
   "outputs": [
    {
     "name": "stdout",
     "output_type": "stream",
     "text": [
      "    波长      Blue  Green  Red  Warm White  Cold White\n",
      "0  380  0.000000    0.0  0.0         0.0    0.021609\n",
      "1  381  0.001835    0.0  0.0         0.0    0.016859\n",
      "2  382  0.005505    0.0  0.0         0.0    0.011873\n",
      "3  383  0.002752    0.0  0.0         0.0    0.027545\n",
      "4  384  0.000000    0.0  0.0         0.0    0.029682\n"
     ]
    }
   ],
   "source": [
    "import pandas as pd\n",
    "import os\n",
    "import matplotlib.pyplot as plt\n",
    "import seaborn as sns\n",
    "from scipy.optimize import minimize\n",
    "from typing import Tuple, Optional, Dict\n",
    "\n",
    "df = pd.read_excel('Data/P2_processed_data.xlsx')\n",
    "print (df.head())"
   ]
  },
  {
   "cell_type": "code",
   "execution_count": 5,
   "id": "039b43d0-f045-42ea-8568-e042a5af072f",
   "metadata": {},
   "outputs": [],
   "source": [
    "#read 5 kinds of waves\n",
    "wavelengths = df['波长'].to_numpy()\n",
    "Blue = df['Blue'].to_numpy()\n",
    "Green = df['Green'].to_numpy()\n",
    "Red = df['Red'].to_numpy()\n",
    "Warm_White = df['Warm White'].to_numpy()\n",
    "Cold_White = df['Cold White'].to_numpy()"
   ]
  },
  {
   "cell_type": "code",
   "execution_count": null,
   "id": "5d1431cc-701d-4b4c-8d75-b891d04a2193",
   "metadata": {},
   "outputs": [],
   "source": [
    "#weight init\n",
    "w1, w2, w3, w4, w5 = 0.2, 0.2, 0.2, 0.2, 0.2\n",
    "\n",
    "#Configeration\n",
    "CCT_BOUNDS = (5500.0, 6500.0)   # [min, max] K\n",
    "RG_BOUNDS = (95.0, 105.0)       # [min, max]\n",
    "WEIGHT_BOUNDS = (0.0, 1.0)      # each weight in [0,1]\n",
    "NUM_RANDOM_STARTS = 30          # multi-start次数\n",
    "FEASIBILITY_TOL = 1e-6          # 约束容忍度（数值判断）\n",
    "MAXITER = 300"
   ]
  },
  {
   "cell_type": "code",
   "execution_count": null,
   "id": "6e09562b-b67a-48e3-b615-69d1717cf5a6",
   "metadata": {},
   "outputs": [],
   "source": [
    "class MetricCache:\n",
    "    def __init__(self, spd):\n",
    "        self.spd = spd\n",
    "        self.cache = {}\n",
    "        \n",
    "    def compute(self, w: np.ndarray):\n",
    "        k = self.key_of(w)\n",
    "        if k in self.cache:\n",
    "            return self.cache[k]\n",
    "        spd = np.dot(w, self.S)  # 合成 SPD\n",
    "        try:\n",
    "            cct = float(get_CCT(spd))\n",
    "        except Exception as e:\n",
    "            cct = float('nan')\n",
    "        try:\n",
    "            duv = float(get_duv(spd))\n",
    "        except Exception:\n",
    "            duv = float('nan')\n",
    "        try:\n",
    "            rf = float(get_rf(spd))\n",
    "        except Exception:\n",
    "            rf = float('nan')\n",
    "        try:\n",
    "            rg = float(get_rg(spd))\n",
    "        except Exception:\n",
    "            rg = float('nan')\n",
    "        try:\n",
    "            mel = float(get_mel_DER(spd))\n",
    "        except Exception:\n",
    "            mel = float('nan')\n",
    "        val = {'spd': spd, 'cct': cct, 'duv': duv, 'rf': rf, 'rg': rg, 'mel': mel}\n",
    "        self.cache[k] = val\n",
    "        return val"
   ]
  }
 ],
 "metadata": {
  "kernelspec": {
   "display_name": "EECS",
   "language": "python",
   "name": "robodiff"
  },
  "language_info": {
   "codemirror_mode": {
    "name": "ipython",
    "version": 3
   },
   "file_extension": ".py",
   "mimetype": "text/x-python",
   "name": "python",
   "nbconvert_exporter": "python",
   "pygments_lexer": "ipython3",
   "version": "3.9.18"
  }
 },
 "nbformat": 4,
 "nbformat_minor": 5
}
